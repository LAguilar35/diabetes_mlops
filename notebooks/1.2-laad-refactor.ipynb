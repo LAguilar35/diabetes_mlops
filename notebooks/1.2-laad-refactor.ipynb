{
 "cells": [
  {
   "cell_type": "code",
   "execution_count": 17,
   "metadata": {},
   "outputs": [],
   "source": [
    "import mlflow\n",
    "import pandas as pd\n",
    "import numpy as np\n",
    "import matplotlib.pyplot as plt\n",
    "import seaborn as sns\n",
    "from sklearn.model_selection import train_test_split, cross_val_score\n",
    "from sklearn.preprocessing import StandardScaler, LabelEncoder\n",
    "from sklearn.ensemble import RandomForestClassifier\n",
    "from sklearn.metrics import classification_report, accuracy_score, confusion_matrix, ConfusionMatrixDisplay\n",
    "from sklearn.linear_model import LogisticRegression\n",
    "from sklearn.pipeline import Pipeline, make_pipeline\n",
    "from category_encoders import BinaryEncoder\n",
    "from sklearn.compose import ColumnTransformer"
   ]
  },
  {
   "cell_type": "code",
   "execution_count": 9,
   "metadata": {},
   "outputs": [],
   "source": [
    "class BasicExplorer:\n",
    "    @staticmethod\n",
    "    def basic_info(data: pd.DataFrame):\n",
    "        print(data.head())\n",
    "        print(data.describe())\n",
    "        print(data.info())\n",
    "\n",
    "    def histograms(data: pd.DataFrame):\n",
    "        data.hist(bins=15, figsize=(15,10))\n",
    "        plt.show()\n",
    "\n",
    "    def correlation_matrix(data: pd.DataFrame):\n",
    "        aux_data = pd.DataFrame()\n",
    "        aux_data['Gender'] = data['Gender'] == 'Male'\n",
    "        aux_data['class'] = data['class'] == 'Positive'\n",
    "        for column in data.columns[2:-1]:\n",
    "            aux_data[column] = data[column] == 'Yes'\n",
    "        plt.figure(figsize=(12,8))\n",
    "        sns.heatmap(aux_data.corr(numeric_only=True), annot=True, fmt=\".2f\", cmap=\"coolwarm\")"
   ]
  },
  {
   "cell_type": "code",
   "execution_count": 18,
   "metadata": {},
   "outputs": [],
   "source": [
    "class DiabetesRisk:\n",
    "    def __init__(self, filepath):\n",
    "        self.filepath = filepath\n",
    "        #self.pipeline = self.create_pipeline()\n",
    "        self.X_train, self.X_test, self.y_train, self.y_test = [None] * 4\n",
    "\n",
    "    def create_pipeline(self):\n",
    "        numeric_pipeline = Pipeline(\n",
    "            steps=[\n",
    "                (\"scaler\", StandardScaler()),\n",
    "            ]\n",
    "        )\n",
    "        categorical_pipeline = Pipeline(\n",
    "            steps=[\n",
    "                (\"binary\", BinaryEncoder())\n",
    "            ]\n",
    "        )\n",
    "        preprocessor = ColumnTransformer(\n",
    "            [\n",
    "                (\"categorical\", categorical_pipeline, self.data.columns[1:-1].to_list()),\n",
    "                (\"numerical\", numeric_pipeline, self.data.columns[:1].to_list())\n",
    "            ]\n",
    "        )\n",
    "        self.pipeline = make_pipeline(preprocessor, LogisticRegression(max_iter=1000))\n",
    "        return self\n",
    "    \n",
    "    def load_data(self):\n",
    "        self.data = pd.read_csv(self.filepath)\n",
    "        BasicExplorer.basic_info(self.data)\n",
    "        return self\n",
    "    \n",
    "    def preprocess_data(self):\n",
    "        X = self.data.drop('class', axis=1)\n",
    "        y = self.data['class']\n",
    "        self.X_train, self.X_test, self.y_train, self.y_test = train_test_split(X, y, test_size=0.2, random_state=35)\n",
    "        return self\n",
    "    \n",
    "    def train_model(self):\n",
    "        self.pipeline.fit(self.X_train, self.y_train)\n",
    "        return self\n",
    "    \n",
    "    def evaluate_model(self):\n",
    "        print('-----Evalución del modelo-----')\n",
    "        y_pred = self.pipeline.predict(self.X_test)\n",
    "        cm = confusion_matrix(self.y_test, y_pred)\n",
    "        disp = ConfusionMatrixDisplay(confusion_matrix=cm, display_labels=np.unique(self.y_test))\n",
    "        disp.plot(cmap=\"Blues\")\n",
    "        plt.show()\n",
    "\n",
    "        report = classification_report(self.y_test, y_pred)\n",
    "        print(report)\n",
    "        return self\n",
    "\n",
    "    def cv_model(self):\n",
    "        scores = cross_val_score(self.pipeline, self.X_train, self.y_train, cv = 5)\n",
    "        print(\"Average Accuracy with CV:\", np.mean(scores))\n",
    "        return self\n",
    "\n",
    "\n"
   ]
  },
  {
   "cell_type": "code",
   "execution_count": 19,
   "metadata": {},
   "outputs": [
    {
     "name": "stdout",
     "output_type": "stream",
     "text": [
      "   Age Gender Polyuria Polydipsia sudden weight loss weakness Polyphagia  \\\n",
      "0   40   Male       No        Yes                 No      Yes         No   \n",
      "1   58   Male       No         No                 No      Yes         No   \n",
      "2   41   Male      Yes         No                 No      Yes        Yes   \n",
      "3   45   Male       No         No                Yes      Yes        Yes   \n",
      "4   60   Male      Yes        Yes                Yes      Yes        Yes   \n",
      "\n",
      "  Genital thrush visual blurring Itching Irritability delayed healing  \\\n",
      "0             No              No     Yes           No             Yes   \n",
      "1             No             Yes      No           No              No   \n",
      "2             No              No     Yes           No             Yes   \n",
      "3            Yes              No     Yes           No             Yes   \n",
      "4             No             Yes     Yes          Yes             Yes   \n",
      "\n",
      "  partial paresis muscle stiffness Alopecia Obesity     class  \n",
      "0              No              Yes      Yes     Yes  Positive  \n",
      "1             Yes               No      Yes      No  Positive  \n",
      "2              No              Yes      Yes      No  Positive  \n",
      "3              No               No       No      No  Positive  \n",
      "4             Yes              Yes      Yes     Yes  Positive  \n",
      "              Age\n",
      "count  520.000000\n",
      "mean    48.028846\n",
      "std     12.151466\n",
      "min     16.000000\n",
      "25%     39.000000\n",
      "50%     47.500000\n",
      "75%     57.000000\n",
      "max     90.000000\n",
      "<class 'pandas.core.frame.DataFrame'>\n",
      "RangeIndex: 520 entries, 0 to 519\n",
      "Data columns (total 17 columns):\n",
      " #   Column              Non-Null Count  Dtype \n",
      "---  ------              --------------  ----- \n",
      " 0   Age                 520 non-null    int64 \n",
      " 1   Gender              520 non-null    object\n",
      " 2   Polyuria            520 non-null    object\n",
      " 3   Polydipsia          520 non-null    object\n",
      " 4   sudden weight loss  520 non-null    object\n",
      " 5   weakness            520 non-null    object\n",
      " 6   Polyphagia          520 non-null    object\n",
      " 7   Genital thrush      520 non-null    object\n",
      " 8   visual blurring     520 non-null    object\n",
      " 9   Itching             520 non-null    object\n",
      " 10  Irritability        520 non-null    object\n",
      " 11  delayed healing     520 non-null    object\n",
      " 12  partial paresis     520 non-null    object\n",
      " 13  muscle stiffness    520 non-null    object\n",
      " 14  Alopecia            520 non-null    object\n",
      " 15  Obesity             520 non-null    object\n",
      " 16  class               520 non-null    object\n",
      "dtypes: int64(1), object(16)\n",
      "memory usage: 69.2+ KB\n",
      "None\n",
      "-----Evalución del modelo-----\n"
     ]
    },
    {
     "data": {
      "image/png": "[encoded data removed]",
      "text/plain": [
       "<Figure size 640x480 with 2 Axes>"
      ]
     },
     "metadata": {},
     "output_type": "display_data"
    },
    {
     "name": "stdout",
     "output_type": "stream",
     "text": [
      "              precision    recall  f1-score   support\n",
      "\n",
      "    Negative       0.93      1.00      0.97        42\n",
      "    Positive       1.00      0.95      0.98        62\n",
      "\n",
      "    accuracy                           0.97       104\n",
      "   macro avg       0.97      0.98      0.97       104\n",
      "weighted avg       0.97      0.97      0.97       104\n",
      "\n",
      "Average Accuracy with CV: 0.9134825014343086\n"
     ]
    },
    {
     "data": {
      "text/plain": [
       "<__main__.DiabetesRisk at 0x228f1a63be0>"
      ]
     },
     "execution_count": 19,
     "metadata": {},
     "output_type": "execute_result"
    }
   ],
   "source": [
    "path = r\"..\\data\\raw\\diabetes_data_upload.csv\"\n",
    "model = DiabetesRisk(path)\n",
    "model.load_data()\n",
    "model.create_pipeline()\n",
    "model.preprocess_data()\n",
    "model.train_model()\n",
    "model.evaluate_model()\n",
    "model.cv_model()"
   ]
  }
 ],
 "metadata": {
  "kernelspec": {
   "display_name": "venv",
   "language": "python",
   "name": "python3"
  },
  "language_info": {
   "codemirror_mode": {
    "name": "ipython",
    "version": 3
   },
   "file_extension": ".py",
   "mimetype": "text/x-python",
   "name": "python",
   "nbconvert_exporter": "python",
   "pygments_lexer": "ipython3",
   "version": "3.10.11"
  }
 },
 "nbformat": 4,
 "nbformat_minor": 2
}
